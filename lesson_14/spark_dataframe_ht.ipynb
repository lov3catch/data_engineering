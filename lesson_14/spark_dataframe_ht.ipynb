{
 "cells": [
  {
   "cell_type": "code",
   "execution_count": 1,
   "metadata": {},
   "outputs": [],
   "source": [
    "from pyspark.sql import SparkSession, functions as F\n",
    "from pyspark.sql.types import StructType, StructField, IntegerType, StringType, DateType, TimestampType, DoubleType"
   ]
  },
  {
   "cell_type": "code",
   "execution_count": 2,
   "metadata": {
    "collapsed": false,
    "jupyter": {
     "outputs_hidden": false
    },
    "pycharm": {
     "is_executing": true
    }
   },
   "outputs": [],
   "source": [
    "spark = SparkSession.builder.master('local[*]').getOrCreate()"
   ]
  },
  {
   "cell_type": "code",
   "execution_count": 3,
   "metadata": {
    "collapsed": false,
    "jupyter": {
     "outputs_hidden": false
    }
   },
   "outputs": [
    {
     "name": "stdout",
     "output_type": "stream",
     "text": [
      "3.5.0\n"
     ]
    }
   ],
   "source": [
    "print(spark.version)"
   ]
  },
  {
   "cell_type": "code",
   "execution_count": 4,
   "metadata": {
    "collapsed": false,
    "jupyter": {
     "outputs_hidden": false
    }
   },
   "outputs": [],
   "source": [
    "actor_df = spark.read.csv('./data/actor.csv', header=True, inferSchema=True)\n",
    "address_df = spark.read.csv('./data/address.csv', header=True, inferSchema=True)\n",
    "category_df = spark.read.csv('./data/category.csv', header=True, inferSchema=True)\n",
    "city_df = spark.read.csv('./data/city.csv', header=True, inferSchema=True)\n",
    "country_df = spark.read.csv('./data/country.csv', header=True, inferSchema=True)\n",
    "customer_df = spark.read.csv('./data/customer.csv', header=True, inferSchema=True)\n",
    "film_df = spark.read.csv('./data/film.csv', header=True, inferSchema=True)\n",
    "film_actor_df = spark.read.csv('./data/film_actor.csv', header=True, inferSchema=True)\n",
    "film_category_df = spark.read.csv('./data/film_category.csv', header=True, inferSchema=True)\n",
    "inventory_df = spark.read.csv('./data/inventory.csv', header=True, inferSchema=True)\n",
    "language_df = spark.read.csv('./data/language.csv', header=True, inferSchema=True)\n",
    "payment_df = spark.read.csv('./data/payment.csv', header=True, inferSchema=True)\n",
    "rental_df = spark.read.csv('./data/rental.csv', header=True, inferSchema=True)\n",
    "staff_df = spark.read.csv('./data/staff.csv', header=True, inferSchema=True)\n",
    "store_df = spark.read.csv('./data/store.csv', header=True, inferSchema=True)"
   ]
  },
  {
   "cell_type": "code",
   "execution_count": 5,
   "metadata": {},
   "outputs": [],
   "source": [
    "category_schema = StructType([\n",
    "    StructField('category_id', IntegerType(), False),\n",
    "    StructField('name', StringType(), False),\n",
    "    StructField('last_update', DateType(), False),\n",
    "])\n",
    "\n",
    "film_category_schema = StructType([\n",
    "        StructField('film_id', IntegerType(), False),\n",
    "        StructField('category_id', IntegerType(), False),\n",
    "        StructField('last_update', DateType(), False),\n",
    "])\n",
    "\n",
    "film_actor_schema = StructType([\n",
    "    StructField('actor_id', IntegerType(), False),\n",
    "    StructField('film_id', IntegerType(), False),\n",
    "    StructField('last_update', TimestampType(), False),\n",
    "])\n",
    "\n",
    "rental_schema = StructType([\n",
    "    StructField('rental_id', IntegerType(), False),\n",
    "    StructField('rental_date', TimestampType(), False),\n",
    "    StructField('inventory_id', IntegerType(), False),\n",
    "    StructField('customer_id', IntegerType(), False),\n",
    "    StructField('return_date', TimestampType(), False),\n",
    "    StructField('staff_id', IntegerType(), False),\n",
    "    StructField('last_update', TimestampType(), False),\n",
    "])\n",
    "\n",
    "inventory_schema = StructType([\n",
    "    StructField('inventory_id', IntegerType(), False),\n",
    "    StructField('film_id', IntegerType(), False),\n",
    "    StructField('store_id', IntegerType(), False),\n",
    "    StructField('last_update', TimestampType(), False),\n",
    "])\n",
    "\n",
    "actor_schema = StructType([\n",
    "    StructField('actor_id', IntegerType(), False),\n",
    "    StructField('first_name', StringType(), False),\n",
    "    StructField('last_name', StringType(), False),\n",
    "    StructField('last_update', TimestampType(), False),\n",
    "])\n",
    "\n",
    "payment_schema = StructType([\n",
    "    StructField('payment_id', IntegerType(), False),\n",
    "    StructField('customer_id', IntegerType(), False),\n",
    "    StructField('staff_id', IntegerType(), False),\n",
    "    StructField('rental_id', IntegerType(), False),\n",
    "    StructField('amount', DoubleType(), False),\n",
    "    StructField('payment_date', TimestampType(), False),\n",
    "])\n",
    "\n",
    "film_schema = StructType(\n",
    "    [\n",
    "        StructField('film_id', IntegerType(), False),\n",
    "        StructField('title', StringType(), False),\n",
    "        StructField('description', StringType(), False),\n",
    "        StructField('release_year', IntegerType(), False),\n",
    "        StructField('language_id', IntegerType(), False),\n",
    "        StructField('original_language_id', IntegerType(), True),\n",
    "        StructField('rental_duration', IntegerType(), False),\n",
    "        StructField('rental_rate', StringType(), False),\n",
    "        StructField('length', IntegerType(), False),\n",
    "        StructField('replacement_cost', IntegerType(), False),\n",
    "        StructField('rating', IntegerType(), False),\n",
    "        StructField('special_features', StringType(), False),\n",
    "        StructField('fulltext', StringType(), False),\n",
    "        StructField('last_update', DateType(), False),\n",
    "    ]\n",
    ")"
   ]
  },
  {
   "cell_type": "markdown",
   "metadata": {
    "collapsed": false,
    "jupyter": {
     "outputs_hidden": false
    }
   },
   "source": [
    "# Домашнє завдання на тему Spark SQL\n",
    "\n",
    "Задачі з домашнього завдання на SQL потрібно розвʼязати за допомогою Spark SQL DataFrame API.\n",
    "\n",
    "- Дампи таблиць знаходяться в папці `data`. Датафрейми таблиць вже створені в клітинці вище.\n",
    "- Можете створювати стільки нових клітинок, скільки вам необхідно.\n",
    "- Розвʼязок кожної задачі має бути відображений в самому файлі (використати метод `.show()`)\n",
    "- код має бути оформлений у відповідності із одним із стилем, показаним лектором на занятті 13.\n",
    "\n",
    "**Увага!**\n",
    "Використовувати мову запитів SQL безпосередньо забороняється, потрібно використовувати виключно DataFrame API!\n"
   ]
  },
  {
   "cell_type": "markdown",
   "metadata": {
    "collapsed": false,
    "jupyter": {
     "outputs_hidden": false
    }
   },
   "source": [
    "1.\n",
    "Вивести кількість фільмів в кожній категорії.\n",
    "Результат відсортувати за спаданням."
   ]
  },
  {
   "cell_type": "code",
   "execution_count": 6,
   "metadata": {
    "collapsed": false,
    "jupyter": {
     "outputs_hidden": false
    }
   },
   "outputs": [
    {
     "name": "stdout",
     "output_type": "stream",
     "text": [
      "+-----------+-----+\n",
      "|       name|count|\n",
      "+-----------+-----+\n",
      "|     Sports|   74|\n",
      "|    Foreign|   73|\n",
      "|     Family|   69|\n",
      "|Documentary|   68|\n",
      "|  Animation|   66|\n",
      "|     Action|   64|\n",
      "|        New|   63|\n",
      "|      Drama|   62|\n",
      "|     Sci-Fi|   61|\n",
      "|      Games|   61|\n",
      "|   Children|   60|\n",
      "|     Comedy|   58|\n",
      "|   Classics|   57|\n",
      "|     Travel|   57|\n",
      "|     Horror|   56|\n",
      "|      Music|   51|\n",
      "+-----------+-----+\n",
      "\n"
     ]
    }
   ],
   "source": [
    "category_df = spark.read.csv('./data/category.csv', header=True, schema=category_schema)\n",
    "film_category_df = spark.read.csv('./data/film_category.csv', header=True, schema=film_category_schema)\n",
    "\n",
    "inner_join_df = category_df.join(film_category_df, category_df.category_id == film_category_df.category_id, 'inner')\n",
    "# inner_join_df.show()\n",
    "\n",
    "grouped_df = inner_join_df.groupBy(film_category_df.category_id, category_df.name).count()\n",
    "# grouped_df.show()\n",
    "\n",
    "sorted_df = grouped_df.sort(F.desc(\"count\"))\n",
    "sorted_df.select('name', 'count').show()"
   ]
  },
  {
   "cell_type": "markdown",
   "metadata": {
    "collapsed": false,
    "jupyter": {
     "outputs_hidden": false
    }
   },
   "source": [
    "2.\n",
    "Вивести 10 акторів, чиї фільми брали на прокат найбільше.\n",
    "Результат відсортувати за спаданням."
   ]
  },
  {
   "cell_type": "code",
   "execution_count": 11,
   "metadata": {
    "collapsed": false,
    "jupyter": {
     "outputs_hidden": false
    }
   },
   "outputs": [
    {
     "name": "stdout",
     "output_type": "stream",
     "text": [
      "+--------+----------+-----------+------------+\n",
      "|actor_id|first_name|  last_name|rental_count|\n",
      "+--------+----------+-----------+------------+\n",
      "|     107|      GINA|  DEGENERES|         753|\n",
      "|     181|   MATTHEW|     CARREY|         678|\n",
      "|     198|      MARY|     KEITEL|         674|\n",
      "|     144|    ANGELA|WITHERSPOON|         654|\n",
      "|     102|    WALTER|       TORN|         640|\n",
      "|      60|     HENRY|      BERRY|         612|\n",
      "|     150|     JAYNE|      NOLTE|         611|\n",
      "|      37|       VAL|     BOLGER|         605|\n",
      "|      23|    SANDRA|     KILMER|         604|\n",
      "|      90|      SEAN|    GUINESS|         599|\n",
      "+--------+----------+-----------+------------+\n",
      "\n"
     ]
    }
   ],
   "source": [
    "join1_df = rental_df.join(inventory_df, inventory_df.inventory_id == rental_df.inventory_id, 'inner')\n",
    "join2_df = join1_df.join(film_actor_df, film_actor_df.film_id == inventory_df.film_id, 'inner')\n",
    "\n",
    "grouped_df = join2_df.groupBy(film_actor_df.actor_id).agg(film_actor_df.actor_id, F.count(rental_df.rental_id).alias('rental_count'))\n",
    "grouped_df = grouped_df.orderBy(F.desc('rental_count')).limit(10).select('actor_id', 'rental_count')\n",
    "\n",
    "top_actors_df = grouped_df.join(actor_df, actor_df.actor_id == grouped_df.actor_id).orderBy(\n",
    "    F.desc(grouped_df.rental_count)).select(actor_df.actor_id, actor_df.first_name, actor_df.last_name, grouped_df.rental_count)\n",
    "\n",
    "top_actors_df.show()"
   ]
  },
  {
   "cell_type": "markdown",
   "metadata": {
    "collapsed": false,
    "jupyter": {
     "outputs_hidden": false
    }
   },
   "source": [
    "3.\n",
    "Вивести категорія фільмів, на яку було витрачено найбільше грошей\n",
    "в прокаті"
   ]
  },
  {
   "cell_type": "code",
   "execution_count": 16,
   "metadata": {
    "collapsed": false,
    "jupyter": {
     "outputs_hidden": false
    }
   },
   "outputs": [
    {
     "name": "stdout",
     "output_type": "stream",
     "text": [
      "+------------------+-----------+\n",
      "|      total_amount|       name|\n",
      "+------------------+-----------+\n",
      "| 5314.209999999848|     Sports|\n",
      "|  4756.97999999987|     Sci-Fi|\n",
      "| 4656.299999999864|  Animation|\n",
      "| 4587.389999999876|      Drama|\n",
      "| 4383.579999999895|     Comedy|\n",
      "| 4375.849999999871|     Action|\n",
      "| 4361.569999999897|        New|\n",
      "| 4281.329999999893|      Games|\n",
      "| 4270.669999999888|    Foreign|\n",
      "|4226.0699999998815|     Family|\n",
      "| 4217.519999999889|Documentary|\n",
      "| 3722.539999999922|     Horror|\n",
      "|3655.5499999999147|   Children|\n",
      "|3639.5899999999156|   Classics|\n",
      "| 3549.639999999925|     Travel|\n",
      "| 3414.729999999933|      Music|\n",
      "+------------------+-----------+\n",
      "\n"
     ]
    }
   ],
   "source": [
    "join1_df = rental_df.join(payment_df, rental_df.rental_id == payment_df.rental_id, 'left')\n",
    "join2_df = join1_df.join(inventory_df, rental_df.inventory_id == inventory_df.inventory_id, 'left')\n",
    "join3_df = join2_df.join(film_category_df, inventory_df.film_id == film_category_df.film_id, 'left')\n",
    "final_df = join3_df.join(category_df, film_category_df.category_id == category_df.category_id, 'left')\n",
    "\n",
    "grouped_df = final_df.groupBy(category_df.name).agg(F.sum(payment_df.amount).alias('total_amount'))\n",
    "\n",
    "sorted_df = grouped_df.orderBy(F.desc(\"total_amount\"))\n",
    "sorted_df.select('total_amount', 'name').orderBy(F.desc('total_amount')).show()"
   ]
  },
  {
   "cell_type": "markdown",
   "metadata": {
    "collapsed": false,
    "jupyter": {
     "outputs_hidden": false
    }
   },
   "source": [
    "4.\n",
    "Вивести назви фільмів, яких не має в inventory."
   ]
  },
  {
   "cell_type": "code",
   "execution_count": 18,
   "metadata": {
    "collapsed": false,
    "jupyter": {
     "outputs_hidden": false
    }
   },
   "outputs": [
    {
     "name": "stdout",
     "output_type": "stream",
     "text": [
      "+--------------------+\n",
      "|               title|\n",
      "+--------------------+\n",
      "|       RAINBOW SHOCK|\n",
      "|           GUMP DATE|\n",
      "|         HOCUS FRIDA|\n",
      "|    TREASURE COMMAND|\n",
      "| CHINATOWN GLADIATOR|\n",
      "|        WALLS ARTIST|\n",
      "|      ARGONAUTS TOWN|\n",
      "|       PSYCHO SHRUNK|\n",
      "|   FIREHOUSE VIETNAM|\n",
      "|DELIVERANCE MULHO...|\n",
      "|       ROOF CHAMPION|\n",
      "|        TADPOLE PARK|\n",
      "|         APOLLO TEEN|\n",
      "|       HATE HANDICAP|\n",
      "|       PEARL DESTINY|\n",
      "|COMMANDMENTS EXPRESS|\n",
      "|        VOLUME HOUSE|\n",
      "|     CROWDS TELEMARK|\n",
      "|   RAIDERS ANTITRUST|\n",
      "|    KILL BROTHERHOOD|\n",
      "+--------------------+\n",
      "only showing top 20 rows\n",
      "\n"
     ]
    }
   ],
   "source": [
    "inventory_df = spark.read.csv('./data/inventory.csv', header=True, schema=inventory_schema)\n",
    "film_df = spark.read.csv('./data/film.csv', header=True, schema=film_schema)\n",
    "\n",
    "left_join_df = film_df.join(inventory_df, inventory_df.film_id == film_df.film_id, 'left')\n",
    "# left_join_df.show()\n",
    "\n",
    "filtered_df = left_join_df.filter(F.col('inventory_id').isNull())\n",
    "\n",
    "filtered_df.select('title').distinct().show()"
   ]
  },
  {
   "cell_type": "markdown",
   "metadata": {
    "collapsed": false,
    "jupyter": {
     "outputs_hidden": false
    }
   },
   "source": [
    "5.\n",
    "Вивести топ 3 актори, які найбільше зʼявлялись в категорії фільмів “Children”"
   ]
  },
  {
   "cell_type": "code",
   "execution_count": 19,
   "metadata": {
    "collapsed": false,
    "jupyter": {
     "outputs_hidden": false
    },
    "pycharm": {
     "is_executing": true
    }
   },
   "outputs": [
    {
     "name": "stdout",
     "output_type": "stream",
     "text": [
      "+--------+----------+---------+----------------+\n",
      "|actor_id|first_name|last_name|appearance_count|\n",
      "+--------+----------+---------+----------------+\n",
      "|     198|      MARY|   KEITEL|            7920|\n",
      "|     181|   MATTHEW|   CARREY|            7059|\n",
      "|     197|     REESE|     WEST|            6501|\n",
      "+--------+----------+---------+----------------+\n",
      "\n"
     ]
    }
   ],
   "source": [
    "join1_df = film_actor_df.join(actor_df, actor_df.actor_id == film_actor_df.actor_id, 'left')\n",
    "join2_df = join1_df.join(film_category_df, film_actor_df.film_id == film_category_df.film_id, 'inner')\n",
    "join3_df = join2_df.join(category_df, category_df.category_id == film_category_df.category_id, 'inner')\n",
    "\n",
    "join3_df.filter(category_df.name == 'Children')\n",
    "\n",
    "grouped_df = join3_df.groupBy(film_actor_df.actor_id, actor_df.first_name, actor_df.last_name).agg(\n",
    "    F.sum(film_actor_df.actor_id).alias('appearance_count'))\n",
    "\n",
    "sorted_df = grouped_df.orderBy(F.desc('appearance_count'))\n",
    "sorted_df.select('first_name', 'last_name', 'appearance_count')\n",
    "\n",
    "limited_df = sorted_df.limit(3)\n",
    "limited_df.show()\n"
   ]
  },
  {
   "cell_type": "code",
   "execution_count": null,
   "metadata": {
    "collapsed": false,
    "jupyter": {
     "outputs_hidden": false
    }
   },
   "outputs": [],
   "source": []
  },
  {
   "cell_type": "markdown",
   "metadata": {
    "collapsed": false,
    "jupyter": {
     "outputs_hidden": false
    }
   },
   "source": [
    "Stop Spark session:"
   ]
  },
  {
   "cell_type": "code",
   "execution_count": 20,
   "metadata": {
    "collapsed": false,
    "jupyter": {
     "outputs_hidden": false
    }
   },
   "outputs": [],
   "source": [
    "spark.stop()"
   ]
  },
  {
   "cell_type": "code",
   "execution_count": null,
   "metadata": {},
   "outputs": [],
   "source": []
  }
 ],
 "metadata": {
  "kernelspec": {
   "display_name": "Python 3 (ipykernel)",
   "language": "python",
   "name": "python3"
  },
  "language_info": {
   "codemirror_mode": {
    "name": "ipython",
    "version": 3
   },
   "file_extension": ".py",
   "mimetype": "text/x-python",
   "name": "python",
   "nbconvert_exporter": "python",
   "pygments_lexer": "ipython3",
   "version": "3.11.6"
  }
 },
 "nbformat": 4,
 "nbformat_minor": 4
}
